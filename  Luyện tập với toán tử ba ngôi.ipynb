{
 "cells": [
  {
   "cell_type": "code",
   "execution_count": 1,
   "id": "06c8390b",
   "metadata": {},
   "outputs": [
    {
     "name": "stdout",
     "output_type": "stream",
     "text": [
      "nhập số: 15\n",
      "lẻ\n"
     ]
    }
   ],
   "source": [
    "a = int(input(\"nhập số: \"))\n",
    "print(\"chẵn\") if  a % 2 == 0 else print(\"lẻ\")\n"
   ]
  }
 ],
 "metadata": {
  "kernelspec": {
   "display_name": "Python 3 (ipykernel)",
   "language": "python",
   "name": "python3"
  },
  "language_info": {
   "codemirror_mode": {
    "name": "ipython",
    "version": 3
   },
   "file_extension": ".py",
   "mimetype": "text/x-python",
   "name": "python",
   "nbconvert_exporter": "python",
   "pygments_lexer": "ipython3",
   "version": "3.9.5"
  }
 },
 "nbformat": 4,
 "nbformat_minor": 5
}
